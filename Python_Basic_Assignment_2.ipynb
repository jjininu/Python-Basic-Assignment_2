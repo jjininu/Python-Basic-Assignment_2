{
  "nbformat": 4,
  "nbformat_minor": 0,
  "metadata": {
    "colab": {
      "name": " Python Basic Assignment_2",
      "provenance": []
    },
    "kernelspec": {
      "name": "python3",
      "display_name": "Python 3"
    },
    "language_info": {
      "name": "python"
    }
  },
  "cells": [
    {
      "cell_type": "markdown",
      "source": [
        "Python Basic\n",
        "Assignment_2"
      ],
      "metadata": {
        "id": "1uBOu08jn93Z"
      }
    },
    {
      "cell_type": "markdown",
      "source": [
        "1.What are the two values of the Boolean data type? How do you write them?\n",
        "\n",
        "ANSWER:\n",
        "\n",
        "True and False "
      ],
      "metadata": {
        "id": "MiOm7sY9oES5"
      }
    },
    {
      "cell_type": "markdown",
      "source": [
        "2.What are the three different types of Boolean operators?\n",
        "\n",
        "**ANSWER :**\n",
        "\n",
        "And, Or and NOT"
      ],
      "metadata": {
        "id": "lUgZLyfHoMMI"
      }
    },
    {
      "cell_type": "markdown",
      "source": [
        "3. Make a list of each Boolean operator's truth tables (i.e. every possible combination of Boolean values for the operator and what it evaluate).\n",
        "\n",
        "ANSWER:\n",
        "\n",
        "-True \tAnd \tTrue  =\t True\n",
        "\n",
        "-True\t  And \tFalse =\tFalse\n",
        "\n",
        "-False \tAnd \tFalse\t=  False \n",
        "\n",
        "-True \tOr\tTrue = True\n",
        "\n",
        "-True \tOr\tFalse = \tTrue \n",
        "\n",
        "-False \tOr \tFalse =\tFalse\n",
        "\n",
        "-not\tTrue =\tFalse\n",
        "\n",
        "-not\tFalse\t= True"
      ],
      "metadata": {
        "id": "R0Q6lkU1oW__"
      }
    },
    {
      "cell_type": "markdown",
      "source": [
        "4. What are the values of the following expressions?\n",
        "\n",
        "**ANSWER:**\n",
        "\n",
        "(5 > 4) and (3 == 5)   = False\n",
        "\n",
        "Not (5 > 4)  = False\n",
        "\n",
        "(5 > 4) or (3 == 5) = True \n",
        "\n",
        "Not ((5 > 4) or (3 == 5)) = False \n",
        "\n",
        "(True and True) and (True == False) = False\n",
        "\n",
        "(not False) or (not True)  =   True"
      ],
      "metadata": {
        "id": "1FvwZh01ou95"
      }
    },
    {
      "cell_type": "markdown",
      "source": [
        "5. What are the six comparison operators?\n",
        "\n",
        "ANSWER:\n",
        "\n",
        "= , < , > , != , >= , <="
      ],
      "metadata": {
        "id": "ma9sQJ0nrQMl"
      }
    },
    {
      "cell_type": "markdown",
      "source": [
        "6. How do you tell the difference between the equal to and assignment operators?Describe a condition and when you would use one.\n",
        "\n",
        "**ANSWER:**\n",
        "\n",
        "Assignment operators is represented by on equal sign (=), where as equal operators is denoted by two equal sighs (==)."
      ],
      "metadata": {
        "id": "8rlJqQMVrU9e"
      }
    },
    {
      "cell_type": "markdown",
      "source": [
        "7. Identify the three blocks in this code:\n",
        "\n",
        "spam = 0\n",
        "\n",
        "if spam == 10:\n",
        "\n",
        "print('eggs')\n",
        "\n",
        "if spam > 5:\n",
        "\n",
        "print('bacon')\n",
        "\n",
        "else:\n",
        "\n",
        "print('ham')\n",
        "\n",
        "print('spam')\n",
        "\n",
        "print('spam')\n",
        "\n",
        "**ANSWER:**\n",
        "\n",
        "spam = 4\n",
        "\n",
        "if spam == 10:\n",
        "\n",
        "  print('eggs')\n",
        "\n",
        "if spam > 5:\n",
        "\n",
        "  print('bacon')\n",
        "\n",
        "else:\n",
        "\n",
        "  print('ham')\n",
        "\n",
        "  print('spam')\n",
        "\n",
        "  print('spam')"
      ],
      "metadata": {
        "id": "-_QHRqazr9l3"
      }
    },
    {
      "cell_type": "markdown",
      "source": [
        "8. Write code that prints Hello if 1 is stored in spam, prints Howdy if 2 is stored in spam, and prints Greetings! if anything else is stored in spam.\n",
        "\n",
        "**ANSWER:**\n",
        "\n",
        "spam = input()\n",
        "\n",
        "if spam == '1':\n",
        "\n",
        "  print('Hello')\n",
        "\n",
        "elif spam == '2':\n",
        "\n",
        "  print('Howdy')\n",
        "\n",
        "else:\n",
        "\n",
        "  print('Greetings!')"
      ],
      "metadata": {
        "id": "1M69WA2usO-X"
      }
    },
    {
      "cell_type": "markdown",
      "source": [
        "9.If your programme is stuck in an endless loop, what keys you’ll press?\n",
        "\n",
        "**ANSWER:**\n",
        "\n",
        "CTRL + C"
      ],
      "metadata": {
        "id": "UeLMyjlusYg_"
      }
    },
    {
      "cell_type": "markdown",
      "source": [
        "10. How can you tell the difference between break and continue?\n",
        "\n",
        "**ANSWER:**\n",
        "\n",
        "BREAK :  will help to stop the loop once a condition is met.\n",
        "CONTINUE : will force to skip the loop step when the condition is met."
      ],
      "metadata": {
        "id": "Oq8_yGpksbpv"
      }
    },
    {
      "cell_type": "markdown",
      "source": [
        " \n",
        "11. In a for loop, what is the difference between range(10), range(0, 10), and\n",
        "\n",
        " range(0, 10, 1)?\n",
        "\n",
        "**ANSWER:**\n",
        "\n",
        "range(10), range(0, 10), and range(0, 10, 1) gives back to same range  of numbers with same step size."
      ],
      "metadata": {
        "id": "loBFHJQPsvYw"
      }
    },
    {
      "cell_type": "markdown",
      "source": [
        "12. Write a short program that prints the numbers 1 to 10 using a for loop. Then write an equivalent program that prints the numbers 1 to 10 using a while loop.\n",
        "\n",
        "**ANSWER:**\n",
        "\n",
        "For loop\n",
        "for i in range(1,11):\n",
        "\n",
        "  print(i)\n",
        "\n",
        "While loop\n",
        "\n",
        "i = 1\n",
        "while i < 11:\n",
        "\n",
        "  print(i)\n",
        "\n",
        "  if i == 0:\n",
        "\n",
        "  break\n",
        "\n",
        "  i += 1\n"
      ],
      "metadata": {
        "id": "8dju46R3s6yR"
      }
    },
    {
      "cell_type": "markdown",
      "source": [
        "13. If you had a function named bacon() inside a module named spam, how would you call it after importing spam?\n",
        "\n",
        "**ANSWER:**\n",
        "\n",
        " Spam.bacon()"
      ],
      "metadata": {
        "id": "XuiP6p4ZtJdR"
      }
    }
  ]
}